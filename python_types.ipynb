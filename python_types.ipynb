{
 "cells": [
  {
   "cell_type": "markdown",
   "metadata": {},
   "source": [
    "# Python Types\n",
    "\n",
    "A quick overview of the types available in Python (2.7). The majority of this notebook's contents are borrowed directly from the [Python 2.7 documentation](https://docs.python.org/2/library/stdtypes.html).\n",
    "\n",
    "## Built-in Types\n",
    "\n",
    "Python has several built-in types that you're probably already familiar with. See the [complete documentation](https://docs.python.org/2/library/stdtypes.html) for more information.\n",
    "\n",
    "* numerics\n",
    " * int: 32-bit long value in C\n",
    " * float: typically represented as double in C\n",
    " * long: unlimited precision value\n",
    " * complex(real, imaginary=0) - represents complex numbers\n",
    "* sequences\n",
    " * str\n",
    " * unicode\n",
    " * list\n",
    " * tuple\n",
    " * set\n",
    " * and more! (bytearray, buffer, xrange)\n",
    "* mappings\n",
    " * dict\n",
    " * and others in the [collections module](https://docs.python.org/2/library/collections.html#module-collections)\n",
    "* files\n",
    "* classes\n",
    "* instances\n",
    "* exceptions - to raise and except errors\n",
    " * SystemExit\n",
    " * Exception\n",
    " * RuntimeError\n",
    " * IOError\n",
    " * [Many more...](https://docs.python.org/2/library/exceptions.html#exception-hierarchy)"
   ]
  },
  {
   "cell_type": "markdown",
   "metadata": {},
   "source": [
    "# Numerics\n",
    "\n",
    "### int"
   ]
  },
  {
   "cell_type": "code",
   "execution_count": 1,
   "metadata": {
    "collapsed": false
   },
   "outputs": [
    {
     "name": "stdout",
     "output_type": "stream",
     "text": [
      "1\n",
      "2\n",
      "3\n",
      "256\n",
      "256\n",
      "1\n",
      "1\n",
      "string 3.7 can't be converted to int\n",
      "<type 'int'>\n",
      "9223372036854775807\n"
     ]
    }
   ],
   "source": [
    "import sys\n",
    "\n",
    "print 1\n",
    "print abs(-2)\n",
    "print int(3.7)\n",
    "\n",
    "print 2**8\n",
    "print 1<<8\n",
    "print 256>>8\n",
    "\n",
    "print 0**0\n",
    "\n",
    "try:\n",
    "    print int('3.7')\n",
    "except ValueError:\n",
    "    print 'string 3.7 can\\'t be converted to int'\n",
    "\n",
    "print type(1)\n",
    "print sys.maxint"
   ]
  },
  {
   "cell_type": "markdown",
   "metadata": {},
   "source": [
    "### float"
   ]
  },
  {
   "cell_type": "code",
   "execution_count": null,
   "metadata": {
    "collapsed": false
   },
   "outputs": [],
   "source": [
    "print 1.0\n",
    "print 2.0\n",
    "print 3.14159265359\n",
    "print float(\"2.718281828459\")\n",
    "print float(1)\n",
    "\n",
    "print type(3.0)"
   ]
  },
  {
   "cell_type": "markdown",
   "metadata": {},
   "source": [
    "### long"
   ]
  },
  {
   "cell_type": "code",
   "execution_count": 3,
   "metadata": {
    "collapsed": false
   },
   "outputs": [
    {
     "name": "stdout",
     "output_type": "stream",
     "text": [
      "1\n",
      "2\n",
      "1\n",
      "7\n",
      "<type 'long'>\n",
      "<type 'long'>\n"
     ]
    }
   ],
   "source": [
    "import sys\n",
    "\n",
    "print 1L\n",
    "print 2L\n",
    "print long('1L')\n",
    "print long(7)\n",
    "\n",
    "print type(1L)\n",
    "\n",
    "print type(sys.maxint + 1)"
   ]
  },
  {
   "cell_type": "markdown",
   "metadata": {},
   "source": [
    "### complex"
   ]
  },
  {
   "cell_type": "code",
   "execution_count": 4,
   "metadata": {
    "collapsed": false
   },
   "outputs": [
    {
     "name": "stdout",
     "output_type": "stream",
     "text": [
      "1j\n",
      "(2+1j)\n",
      "2.0\n",
      "1.0\n",
      "(-1+0j)\n",
      "<type 'complex'>\n"
     ]
    }
   ],
   "source": [
    "print 1J\n",
    "\n",
    "z = 2+1J\n",
    "print z\n",
    "print z.real\n",
    "print z.imag\n",
    "\n",
    "print 1J * 1J\n",
    "\n",
    "print type(1J)"
   ]
  },
  {
   "cell_type": "markdown",
   "metadata": {},
   "source": [
    "# Sequences\n",
    "\n",
    "### str and unicode\n",
    "\n",
    "Both are immutable objects"
   ]
  },
  {
   "cell_type": "code",
   "execution_count": 5,
   "metadata": {
    "collapsed": false
   },
   "outputs": [
    {
     "name": "stdout",
     "output_type": "stream",
     "text": [
      "hello world\n",
      "<type 'str'>\n",
      "hello world\n",
      "<type 'unicode'>\n",
      "hello world\n",
      "hello world\n",
      "h\n",
      "NOPE\n"
     ]
    }
   ],
   "source": [
    "x = 'hello world'\n",
    "y = u'hello world'\n",
    "\n",
    "print x\n",
    "print type(x)\n",
    "\n",
    "print y\n",
    "print type(y)\n",
    "\n",
    "print unicode(x)\n",
    "print str(y)\n",
    "\n",
    "print x[0]\n",
    "\n",
    "try:\n",
    "    x[0] = 'x'\n",
    "except TypeError:\n",
    "    print 'NOPE'"
   ]
  },
  {
   "cell_type": "markdown",
   "metadata": {},
   "source": [
    "### list, bytearray\n",
    "\n",
    "Both mutable objects"
   ]
  },
  {
   "cell_type": "code",
   "execution_count": 6,
   "metadata": {
    "collapsed": false
   },
   "outputs": [
    {
     "name": "stdout",
     "output_type": "stream",
     "text": [
      "[1, 2, 3, 4, 5, 6, 7, 8, 9, 10]\n",
      "10\n",
      "[10, 9, 8, 7, 6, 5, 4, 3, 2, 1]\n",
      "[2, 4, 6, 8, 10, 12, 14, 16, 18, 20]\n",
      "hello world\n",
      "104\n",
      "xello world\n",
      "['a', 'b', 'c', 'd', 'e', 'f', 'g']\n"
     ]
    }
   ],
   "source": [
    "l = [1, 2, 3]\n",
    "l.append(4)\n",
    "l.extend([5, 6, 7])\n",
    "l += [8, 9, 10]\n",
    "\n",
    "print l\n",
    "print l[-1]\n",
    "print l[::-1]\n",
    "\n",
    "# list comprehension\n",
    "l = [i * 2 for i in range(1, 11)]\n",
    "print l\n",
    "\n",
    "b = bytearray('hello world')\n",
    "print b\n",
    "print b[0]\n",
    "b[0] = ord('x')\n",
    "print b\n",
    "\n",
    "print list(\"abcdefg\")"
   ]
  },
  {
   "cell_type": "markdown",
   "metadata": {},
   "source": [
    "### tuple\n",
    "\n",
    "Immutable object"
   ]
  },
  {
   "cell_type": "code",
   "execution_count": 7,
   "metadata": {
    "collapsed": false
   },
   "outputs": [
    {
     "name": "stdout",
     "output_type": "stream",
     "text": [
      "(1, 2, 3, 4)\n",
      "<type 'tuple'>\n",
      "()\n",
      "(1,)\n",
      "<type 'int'>\n",
      "<type 'tuple'>\n",
      "1\n",
      "(2, 3)\n",
      "4395079296\n",
      "4395102288\n",
      "<generator object <genexpr> at 0x105f78aa0>\n",
      "<type 'generator'>\n",
      "(0, 1, 2, 3, 4, 5, 6, 7, 8, 9)\n",
      "<type 'tuple'>\n"
     ]
    }
   ],
   "source": [
    "t = 1, 2, 3, 4\n",
    "print t\n",
    "print type(t)\n",
    "\n",
    "# empty tuple\n",
    "print ()\n",
    "\n",
    "# one-element tuple\n",
    "print (1,)\n",
    "\n",
    "print type((1))\n",
    "print type((1,))\n",
    "\n",
    "# supports indexing and slicing\n",
    "print t[0]\n",
    "print t[1:3]\n",
    "\n",
    "print id(t)\n",
    "t += (5, 6, 7,)\n",
    "print id(t)\n",
    "\n",
    "# tuple comprehension?\n",
    "t = (i for i in range(10))\n",
    "print t\n",
    "print type(t)\n",
    "\n",
    "# NOPE...there is no tuple comprehension, but the tuple object\n",
    "# constructor accepts any iterable:\n",
    "t = tuple(i for i in range(10))\n",
    "print t\n",
    "print type(t)"
   ]
  },
  {
   "cell_type": "markdown",
   "metadata": {},
   "source": [
    "### set\n",
    "\n",
    "Mutable; hash-based data structure; useful for membership testing, keeping distinct list of things, mathematical ops like unions, intersections, etc."
   ]
  },
  {
   "cell_type": "code",
   "execution_count": 8,
   "metadata": {
    "collapsed": false
   },
   "outputs": [
    {
     "name": "stdout",
     "output_type": "stream",
     "text": [
      "set([1, 2, 3, 4])\n",
      "set([1, 2, 3, 4, 5, 6])\n",
      "set([4])\n",
      "set([5, 6])\n",
      "True\n",
      "False\n",
      "<type 'set'>\n",
      "set([1, 2, 3, 5, 6, 8, 10])\n"
     ]
    }
   ],
   "source": [
    "set()\n",
    "s1 = set([1,2,3]) # please use\n",
    "s2 = {4, 5, 6} # don't use\n",
    "\n",
    "s1 == s2\n",
    "\n",
    "s1.add(1)\n",
    "s1.add(1)\n",
    "s1.add(1)\n",
    "s1.add(4)\n",
    "\n",
    "my_list = list(s2)\n",
    "\n",
    "print s1\n",
    "\n",
    "# NOPE\n",
    "# print s1 + s2\n",
    "\n",
    "# instead use union\n",
    "print s1.union(s2)  # also s1 | s2\n",
    "\n",
    "print s1.intersection(s2) # also s1 & s2\n",
    "\n",
    "print s2.difference(s1) # also s2 - s1\n",
    "\n",
    "print 4 in s1\n",
    "print 10 in s2\n",
    "print type(s1)\n",
    "\n",
    "# set comprehension\n",
    "\n",
    "from random import randint\n",
    "d = {randint(1, 10) for i in range(10)}\n",
    "print d"
   ]
  },
  {
   "cell_type": "markdown",
   "metadata": {},
   "source": [
    "# Mappings\n",
    "\n",
    "### dict\n",
    "\n",
    "Hash based; order is not preserved (see OrderedDict)"
   ]
  },
  {
   "cell_type": "code",
   "execution_count": 13,
   "metadata": {
    "collapsed": false
   },
   "outputs": [
    {
     "name": "stdout",
     "output_type": "stream",
     "text": [
      "[('banana', 'yellow'), ('apple', 'red'), ('grape', 'purple')]\n",
      "{'likes_cookies': False, 'sworn_enemy': 'the lothian', 'name': 'abe'}\n",
      "{'baz': 3, 'foo': 1, 'bar': 2}\n",
      "{'grape': 'purple', 'banana': 'yellow', 'apple': 'red'}\n",
      "True\n",
      "{'u': 117, 't': 116, 'w': 119, 'v': 118, 'y': 121, 'x': 120, 'z': 122}\n"
     ]
    }
   ],
   "source": [
    "# typical\n",
    "x = {\n",
    "    'name': 'abe',\n",
    "    'sworn_enemy': 'the lothian',\n",
    "    'likes_cookies': False\n",
    "}\n",
    "\n",
    "# not typical, but sometimes useful\n",
    "y = dict(foo=1, bar=2, baz=3)\n",
    "\n",
    "# O.o\n",
    "z = dict(zip(['banana', 'apple', 'grape'],\n",
    "             ['yellow', 'red', 'purple']))\n",
    "\n",
    "print zip(['banana', 'apple', 'grape'],\n",
    "             ['yellow', 'red', 'purple'])\n",
    "\n",
    "\n",
    "print x\n",
    "print y\n",
    "print z\n",
    "\n",
    "try:\n",
    "    print x['foo']\n",
    "except KeyError:\n",
    "    pass\n",
    "\n",
    "print 'banana' in z\n",
    "print 'purple' in z.values()\n",
    "\n",
    "# dict comprehension\n",
    "\n",
    "w = {chr(i):i for i in range(116, 123)}\n",
    "print w"
   ]
  },
  {
   "cell_type": "markdown",
   "metadata": {},
   "source": [
    "# Files"
   ]
  },
  {
   "cell_type": "code",
   "execution_count": 17,
   "metadata": {
    "collapsed": false,
    "scrolled": true
   },
   "outputs": [
    {
     "name": "stdout",
     "output_type": "stream",
     "text": [
      "hello world\n",
      "hot chicken is teh greatest\n",
      "eat moar chicken\n",
      "\n",
      "True\n",
      "hello world\n",
      "hot chicken is teh greatest\n",
      "eat moar chicken\n"
     ]
    }
   ],
   "source": [
    "# open(path, mode, buffering)\n",
    "# mode (default = r)\n",
    "# r - reading\n",
    "# w - writing, clearing the file in the process\n",
    "# a - appending; write-mode but leaves original file untouched\n",
    "# b - can be added to the above modes to open file in binary mode\n",
    "# + - opens file for both reading and writing (w+ empties file)\n",
    "#\n",
    "# buffering (optional, default = -1)\n",
    "# 0 - unbuffered\n",
    "# 1 - buffered\n",
    "# 2 or greater, use buffer of that many bytes\n",
    "# negative, use system default\n",
    "\n",
    "\n",
    "# style 1: you must explicitly close the file object\n",
    "f = open('/tmp/foo', 'w')\n",
    "f.write('hello world\\n')\n",
    "f.write('hot chicken is teh greatest\\n')\n",
    "f.write('eat moar chicken\\n')\n",
    "f.close()\n",
    "\n",
    "with open('/tmp/foo', 'r') as f:\n",
    "    print f.read()\n",
    "    \n",
    "print f.closed\n",
    "\n",
    "with open('/tmp/foo', 'r') as f:\n",
    "    #lines = [l.strip() for l in f.readlines()]\n",
    "    \n",
    "    for line in f:\n",
    "        print line.strip()\n"
   ]
  },
  {
   "cell_type": "markdown",
   "metadata": {},
   "source": [
    "# Exceptions\n",
    "\n",
    "`BaseException` is what all other exception objects are based on. Including `Exception` which is the most typical \"generic\" exception to catch when handling errors.\n",
    "\n",
    "Handling of explicit types of exceptions is more preferable to catching the `Exception` type."
   ]
  },
  {
   "cell_type": "code",
   "execution_count": null,
   "metadata": {
    "collapsed": false
   },
   "outputs": [],
   "source": [
    "try:\n",
    "    numbers = open('/path/to/bad/numbers.txt').readlines()\n",
    "    print numbers[0] / numbers[1]\n",
    "except Exception as e:\n",
    "    print 'You divided by zero fool!'\n",
    "\n",
    "# Caught the first exception and gave confusing output\n",
    "print type(e)"
   ]
  },
  {
   "cell_type": "code",
   "execution_count": null,
   "metadata": {
    "collapsed": false
   },
   "outputs": [],
   "source": [
    "f = None\n",
    "\n",
    "try:\n",
    "    1/0\n",
    "except:  # <<<< PLEASE no\n",
    "    pass\n",
    "\n",
    "\n",
    "try:\n",
    "    f = open('/path/to/some/file')\n",
    "    \n",
    "    # do some stuff that may or may not cause errors\n",
    "    # ...\n",
    "    # ...\n",
    "    \n",
    "# You can catch separate errors if needed, along with the\n",
    "# exception object itself\n",
    "except IOError, e:\n",
    "    # handle IOError\n",
    "    print type(e)\n",
    "    print e\n",
    "\n",
    "# If multiple exceptions should be handled the same way\n",
    "# Notice the tuple of exception types\n",
    "except (KeyError, ValueError, TypeError), e:\n",
    "    # handle me\n",
    "    print type(e)\n",
    "\n",
    "# use finally to ALWAYS do something regardless of catching\n",
    "# an exception or not. Pay attention to scoping rules.\n",
    "finally:\n",
    "    if isinstance(f, file):\n",
    "        f.close()"
   ]
  }
 ],
 "metadata": {
  "kernelspec": {
   "display_name": "Python 2",
   "language": "python",
   "name": "python2"
  },
  "language_info": {
   "codemirror_mode": {
    "name": "ipython",
    "version": 2
   },
   "file_extension": ".py",
   "mimetype": "text/x-python",
   "name": "python",
   "nbconvert_exporter": "python",
   "pygments_lexer": "ipython2",
   "version": "2.7.6"
  }
 },
 "nbformat": 4,
 "nbformat_minor": 0
}
