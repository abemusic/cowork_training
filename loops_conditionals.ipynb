{
 "cells": [
  {
   "cell_type": "markdown",
   "metadata": {},
   "source": [
    "# Conditionals\n",
    "\n",
    "### False Value\n",
    "\n",
    "The following evaluate to False:\n",
    "\n",
    "* None\n",
    "* False\n",
    "* zero (0, 0.0, 0L, 0J)\n",
    "* empty sequences '', [], ()\n",
    "* empty mappings {}\n",
    "* classes that implement \\_\\_nonzero\\_\\_ or \\_\\_len\\_\\_ methods\n",
    "\n",
    "Everything else evaluates to True"
   ]
  },
  {
   "cell_type": "markdown",
   "metadata": {},
   "source": [
    "### Boolean Operations"
   ]
  },
  {
   "cell_type": "code",
   "execution_count": null,
   "metadata": {
    "collapsed": false
   },
   "outputs": [],
   "source": [
    "x = True\n",
    "y = False\n",
    "\n",
    "print y and x # short-circuits when it encounters False\n",
    "print x or y\n",
    "print not x\n",
    "print not y\n",
    "\n",
    "# Ternary operator (like C's ? operator)\n",
    "x = 4 if y else -32\n",
    "print x\n"
   ]
  },
  {
   "cell_type": "markdown",
   "metadata": {},
   "source": [
    "### Checking for membership"
   ]
  },
  {
   "cell_type": "code",
   "execution_count": null,
   "metadata": {
    "collapsed": false
   },
   "outputs": [],
   "source": [
    "print 1 in [1, 2, 3]\n",
    "print 0 in [1, 2, 3]\n",
    "print 'abmusic' in {'boilerash', 'chricker', 'thelothian'}\n",
    "print 'foo' in dict(one='foo', two='bar', three='baz')\n",
    "print 'foo' in dict(one='foo', two='bar', three='baz').values()\n"
   ]
  },
  {
   "cell_type": "markdown",
   "metadata": {},
   "source": [
    "### If statements"
   ]
  },
  {
   "cell_type": "code",
   "execution_count": null,
   "metadata": {
    "collapsed": false
   },
   "outputs": [],
   "source": [
    "if True:\n",
    "    print 'Truth'\n",
    "    \n",
    "if not False:\n",
    "    print 'Not the truth'\n",
    "\n",
    "x, y = 1, 2\n",
    "\n",
    "if x == y:\n",
    "    print 'eq'\n",
    "elif x > y:\n",
    "    print 'X'\n",
    "else:\n",
    "    print 'Y'"
   ]
  },
  {
   "cell_type": "markdown",
   "metadata": {},
   "source": [
    "### For loops"
   ]
  },
  {
   "cell_type": "code",
   "execution_count": 5,
   "metadata": {
    "collapsed": false
   },
   "outputs": [
    {
     "name": "stdout",
     "output_type": "stream",
     "text": [
      "['h', 'l', 'l', ' ', 'r', 'l', 'd']\n",
      "True\n",
      "<type 'str'>\n"
     ]
    }
   ],
   "source": [
    "# for [var] in [sequence]:\n",
    "#     do stuff\n",
    "\n",
    "my_list = []\n",
    "for char in \"hello world\":\n",
    "    if ord(char) % 2 == 0:\n",
    "        my_list.append(char)\n",
    "        \n",
    "# list comprehension\n",
    "my_list2 = [char for char in \"hello world\" if ord(char) % 2 == 0]\n",
    "\n",
    "print my_list\n",
    "print my_list == my_list2\n",
    "\n",
    "print type(''.join(my_list))\n",
    "\n",
    "foo = list(\"hello world\")\n",
    "foo[0] = 'x'\n",
    "foo = ''.join(foo)"
   ]
  },
  {
   "cell_type": "markdown",
   "metadata": {},
   "source": [
    "### While"
   ]
  },
  {
   "cell_type": "code",
   "execution_count": null,
   "metadata": {
    "collapsed": false
   },
   "outputs": [],
   "source": [
    "# while [true expression]\n",
    "\n",
    "x = range(10)\n",
    "\n",
    "while len(x) > 0:\n",
    "    i = x.pop()\n",
    "    print i\n",
    "    \n",
    "    # you're free to break out at any time\n",
    "    if 6 < i < 8:\n",
    "        break\n",
    "    \n",
    "    "
   ]
  },
  {
   "cell_type": "markdown",
   "metadata": {},
   "source": [
    "### FizzBuzz"
   ]
  },
  {
   "cell_type": "code",
   "execution_count": 6,
   "metadata": {
    "collapsed": false
   },
   "outputs": [
    {
     "name": "stdout",
     "output_type": "stream",
     "text": [
      "1: 1\n",
      "2: 2\n",
      "3: Fizz\n",
      "4: 4\n",
      "5: Buzz\n",
      "6: Fizz\n",
      "7: 7\n",
      "8: 8\n",
      "9: Fizz\n",
      "10: Buzz\n",
      "11: 11\n",
      "12: Fizz\n",
      "13: 13\n",
      "14: 14\n",
      "15: FizzBuzz\n",
      "16: 16\n",
      "17: 17\n",
      "18: Fizz\n",
      "19: 19\n",
      "20: Buzz\n",
      "21: Fizz\n",
      "22: 22\n",
      "23: 23\n",
      "24: Fizz\n",
      "25: Buzz\n",
      "26: 26\n",
      "27: Fizz\n",
      "28: 28\n",
      "29: 29\n",
      "30: FizzBuzz\n",
      "31: 31\n",
      "32: 32\n",
      "33: Fizz\n",
      "34: 34\n",
      "35: Buzz\n",
      "36: Fizz\n",
      "37: 37\n",
      "38: 38\n",
      "39: Fizz\n",
      "40: Buzz\n",
      "41: 41\n",
      "42: Fizz\n",
      "43: 43\n",
      "44: 44\n",
      "45: FizzBuzz\n",
      "46: 46\n",
      "47: 47\n",
      "48: Fizz\n",
      "49: 49\n",
      "50: Buzz\n"
     ]
    }
   ],
   "source": [
    "\n",
    "for i, x in enumerate(range(1, 51), 1):\n",
    "\n",
    "    if x % 15 == 0:\n",
    "        print '{}: FizzBuzz'.format(i)\n",
    "    elif x % 3 == 0:\n",
    "        print '{}: Fizz'.format(i)\n",
    "    elif x % 5 == 0:\n",
    "        print '{}: Buzz'.format(i)\n",
    "    else:\n",
    "        print '{}: {}'.format(i, x)"
   ]
  },
  {
   "cell_type": "markdown",
   "metadata": {
    "collapsed": true
   },
   "source": [
    "### Recursion!!!"
   ]
  },
  {
   "cell_type": "code",
   "execution_count": 8,
   "metadata": {
    "collapsed": false
   },
   "outputs": [
    {
     "name": "stdout",
     "output_type": "stream",
     "text": [
      "The first factorial to need a long is fac(21)\n",
      "51090942171709440000\n"
     ]
    }
   ],
   "source": [
    "def fac(n):\n",
    "    return 1 if n <= 1 else n * fac(n - 1)\n",
    "\n",
    "i = 1\n",
    "while True:\n",
    "    \n",
    "    x = fac(i)\n",
    "    if type(x) == type(1L):\n",
    "        break    \n",
    "    i += 1\n",
    "    \n",
    "print 'The first factorial to need a long is fac({})'.format(i)\n",
    "print fac(21)"
   ]
  }
 ],
 "metadata": {
  "kernelspec": {
   "display_name": "Python 2",
   "language": "python",
   "name": "python2"
  },
  "language_info": {
   "codemirror_mode": {
    "name": "ipython",
    "version": 2
   },
   "file_extension": ".py",
   "mimetype": "text/x-python",
   "name": "python",
   "nbconvert_exporter": "python",
   "pygments_lexer": "ipython2",
   "version": "2.7.6"
  }
 },
 "nbformat": 4,
 "nbformat_minor": 0
}
